{
    "metadata": {
        "kernelspec": {
            "name": "SQL",
            "display_name": "SQL",
            "language": "sql"
        },
        "language_info": {
            "name": "sql",
            "version": ""
        }
    },
    "nbformat_minor": 2,
    "nbformat": 4,
    "cells": [
        {
            "cell_type": "markdown",
            "source": [
                "# **Retail Sales**"
            ],
            "metadata": {
                "azdata_cell_guid": "9bcaaf31-5fc6-4b66-8785-44ee74b06356"
            },
            "attachments": {}
        },
        {
            "cell_type": "markdown",
            "source": [
                "### Kaggle:\n",
                "\n",
                "https://www.kaggle.com/datasets/sahilprajapati143/retail-analysis-large-dataset?select=new\\_retail\\_data.csv"
            ],
            "metadata": {
                "azdata_cell_guid": "8ffea5ae-323f-4dc7-b92f-7775edee14a9"
            },
            "attachments": {}
        },
        {
            "cell_type": "markdown",
            "source": [
                "# 1. Which products are the most popular based on the number of orders?"
            ],
            "metadata": {
                "azdata_cell_guid": "45ced6c0-65b8-4abd-886c-b3620a93c474"
            },
            "attachments": {}
        },
        {
            "cell_type": "markdown",
            "source": [
                "## Explanation: \n",
                "\n",
                "This query determines the top 100 most popular products based on the order count from the new_retail_data table. \n",
                "By grouping the data by the products column and ordering the results in descending order of the order count,\n",
                "you can identify the top 10 products with the highest demand.\n",
                "\n",
                ""
            ],
            "metadata": {
                "azdata_cell_guid": "2aa18e86-19cf-4406-b572-507774906228"
            },
            "attachments": {}
        },
        {
            "cell_type": "code",
            "source": [
                "SELECT TOP 10 products, COUNT(*) AS Order_Count\r\n",
                "FROM new_retail_data\r\n",
                "GROUP BY products\r\n",
                "ORDER BY Order_Count DESC;"
            ],
            "metadata": {
                "azdata_cell_guid": "acc52e42-da76-498a-b14b-46656cdbcae8",
                "language": "sql",
                "tags": []
            },
            "outputs": [
                {
                    "output_type": "display_data",
                    "data": {
                        "text/html": "(10 rows affected)"
                    },
                    "metadata": {}
                },
                {
                    "output_type": "display_data",
                    "data": {
                        "text/html": "Total execution time: 00:00:00.066"
                    },
                    "metadata": {}
                },
                {
                    "output_type": "execute_result",
                    "execution_count": 17,
                    "data": {
                        "application/vnd.dataresource+json": {
                            "schema": {
                                "fields": [
                                    {
                                        "name": "products"
                                    },
                                    {
                                        "name": "Order_Count"
                                    }
                                ]
                            },
                            "data": [
                                {
                                    "products": "Spring water",
                                    "Order_Count": "2508"
                                },
                                {
                                    "products": "Bottled water",
                                    "Order_Count": "2496"
                                },
                                {
                                    "products": "Mystery",
                                    "Order_Count": "2496"
                                },
                                {
                                    "products": "Artesian water",
                                    "Order_Count": "2478"
                                },
                                {
                                    "products": "Distilled water",
                                    "Order_Count": "2475"
                                },
                                {
                                    "products": "Alkaline water",
                                    "Order_Count": "2448"
                                },
                                {
                                    "products": "Adventure",
                                    "Order_Count": "2436"
                                },
                                {
                                    "products": "Mineral water",
                                    "Order_Count": "2431"
                                },
                                {
                                    "products": "Flavored water",
                                    "Order_Count": "2424"
                                },
                                {
                                    "products": "Coconut water",
                                    "Order_Count": "2424"
                                }
                            ]
                        },
                        "text/html": "<table><tr><th>products</th><th>Order_Count</th></tr><tr><td>Spring water</td><td>2508</td></tr><tr><td>Bottled water</td><td>2496</td></tr><tr><td>Mystery</td><td>2496</td></tr><tr><td>Artesian water</td><td>2478</td></tr><tr><td>Distilled water</td><td>2475</td></tr><tr><td>Alkaline water</td><td>2448</td></tr><tr><td>Adventure</td><td>2436</td></tr><tr><td>Mineral water</td><td>2431</td></tr><tr><td>Flavored water</td><td>2424</td></tr><tr><td>Coconut water</td><td>2424</td></tr></table>"
                    },
                    "metadata": {
                        "azdata_chartOptions": {
                            "type": "horizontalBar",
                            "dataDirection": "vertical",
                            "columnsAsLabels": true,
                            "labelFirstColumn": false,
                            "legendPosition": "top"
                        }
                    }
                }
            ],
            "execution_count": 17
        },
        {
            "cell_type": "markdown",
            "source": [
                "# 2. What is the distribution of customer feedback?"
            ],
            "metadata": {
                "azdata_cell_guid": "ba34fe85-1d83-413b-ad04-9397541c89a6"
            },
            "attachments": {}
        },
        {
            "cell_type": "markdown",
            "source": [
                "## Explanation: \r\n",
                "This query analyzes the distribution of customer feedback by counting the number of occurrences of each feedback type.\r\n",
                "By grouping the data by the Feedback column and ordering the results in descending order of the feedback count,\r\n",
                "you can see which types of feedback are most common.\r\n",
                ""
            ],
            "metadata": {
                "azdata_cell_guid": "f2e22bd7-9a88-4210-bd0f-2b65d42cf73b"
            },
            "attachments": {}
        },
        {
            "cell_type": "markdown",
            "source": [
                ""
            ],
            "metadata": {
                "azdata_cell_guid": "abad4f2a-6ddb-42e2-85ab-47a992ad1ab3"
            }
        },
        {
            "cell_type": "code",
            "source": [
                "SELECT Feedback, COUNT(*) AS Feedback_Count\r\n",
                "FROM new_retail_data\r\n",
                "GROUP BY Feedback\r\n",
                "ORDER BY Feedback_Count DESC;"
            ],
            "metadata": {
                "azdata_cell_guid": "92946922-fc6a-4254-9873-3b206a0ddb7f",
                "language": "sql",
                "tags": []
            },
            "outputs": [
                {
                    "output_type": "display_data",
                    "data": {
                        "text/html": "(5 rows affected)"
                    },
                    "metadata": {}
                },
                {
                    "output_type": "display_data",
                    "data": {
                        "text/html": "Total execution time: 00:00:00.018"
                    },
                    "metadata": {}
                },
                {
                    "output_type": "execute_result",
                    "execution_count": 5,
                    "data": {
                        "application/vnd.dataresource+json": {
                            "schema": {
                                "fields": [
                                    {
                                        "name": "Feedback"
                                    },
                                    {
                                        "name": "Feedback_Count"
                                    }
                                ]
                            },
                            "data": [
                                {
                                    "Feedback": "Excellent",
                                    "Feedback_Count": "100755"
                                },
                                {
                                    "Feedback": "Good",
                                    "Feedback_Count": "95098"
                                },
                                {
                                    "Feedback": "Average",
                                    "Feedback_Count": "62674"
                                },
                                {
                                    "Feedback": "Bad",
                                    "Feedback_Count": "43299"
                                },
                                {
                                    "Feedback": "NULL",
                                    "Feedback_Count": "184"
                                }
                            ]
                        },
                        "text/html": "<table><tr><th>Feedback</th><th>Feedback_Count</th></tr><tr><td>Excellent</td><td>100755</td></tr><tr><td>Good</td><td>95098</td></tr><tr><td>Average</td><td>62674</td></tr><tr><td>Bad</td><td>43299</td></tr><tr><td>NULL</td><td>184</td></tr></table>"
                    },
                    "metadata": {
                        "azdata_chartOptions": {
                            "type": "pie",
                            "dataDirection": "vertical",
                            "columnsAsLabels": true,
                            "labelFirstColumn": true,
                            "legendPosition": "left"
                        }
                    }
                }
            ],
            "execution_count": 5
        },
        {
            "cell_type": "markdown",
            "source": [
                "# 3. What is Order Status Distribution?"
            ],
            "metadata": {
                "azdata_cell_guid": "3f57e0fc-6e32-4ad4-89dd-f5c5cae486f5"
            },
            "attachments": {}
        },
        {
            "cell_type": "markdown",
            "source": [
                "## Explanation: \n",
                "\n",
                "This query examines the distribution of order statuses by counting the number of orders for each status.\n",
                "\n",
                "By grouping the data by the Order\\_Status column and ordering the results in descending order of the order count,\n",
                "\n",
                "you can determine how many orders fall into each status category (e.g., shipped, processing, canceled)."
            ],
            "metadata": {
                "azdata_cell_guid": "c4eb4c16-7b3e-44dd-8a8b-8de17d6b7fed"
            },
            "attachments": {}
        },
        {
            "cell_type": "code",
            "source": [
                "SELECT Order_Status, COUNT(*) AS Order_Count\r\n",
                "FROM new_retail_data\r\n",
                "GROUP BY Order_Status\r\n",
                "ORDER BY Order_Count DESC;"
            ],
            "metadata": {
                "azdata_cell_guid": "dfe8e9ec-bce2-482f-bdcf-5666e806c944",
                "language": "sql"
            },
            "outputs": [
                {
                    "output_type": "display_data",
                    "data": {
                        "text/html": "(5 rows affected)"
                    },
                    "metadata": {}
                },
                {
                    "output_type": "display_data",
                    "data": {
                        "text/html": "Total execution time: 00:00:00.060"
                    },
                    "metadata": {}
                },
                {
                    "output_type": "execute_result",
                    "execution_count": 6,
                    "data": {
                        "application/vnd.dataresource+json": {
                            "schema": {
                                "fields": [
                                    {
                                        "name": "Order_Status"
                                    },
                                    {
                                        "name": "Order_Count"
                                    }
                                ]
                            },
                            "data": [
                                {
                                    "Order_Status": "Delivered",
                                    "Order_Count": "130449"
                                },
                                {
                                    "Order_Status": "Shipped",
                                    "Order_Count": "65024"
                                },
                                {
                                    "Order_Status": "Processing",
                                    "Order_Count": "57199"
                                },
                                {
                                    "Order_Status": "Pending",
                                    "Order_Count": "49103"
                                },
                                {
                                    "Order_Status": "NULL",
                                    "Order_Count": "235"
                                }
                            ]
                        },
                        "text/html": "<table><tr><th>Order_Status</th><th>Order_Count</th></tr><tr><td>Delivered</td><td>130449</td></tr><tr><td>Shipped</td><td>65024</td></tr><tr><td>Processing</td><td>57199</td></tr><tr><td>Pending</td><td>49103</td></tr><tr><td>NULL</td><td>235</td></tr></table>"
                    },
                    "metadata": {
                        "azdata_chartOptions": {
                            "type": "bar",
                            "dataDirection": "horizontal",
                            "columnsAsLabels": true,
                            "labelFirstColumn": true,
                            "legendPosition": "bottom"
                        }
                    }
                }
            ],
            "execution_count": 6
        },
        {
            "cell_type": "markdown",
            "source": [
                "# 4. What is Customer Count by Country?"
            ],
            "metadata": {
                "language": "sql",
                "azdata_cell_guid": "09a82e3b-7f34-4d42-81f3-4dc956b4a80a"
            },
            "attachments": {}
        },
        {
            "cell_type": "markdown",
            "source": [
                "## Explanation: \n",
                "\n",
                "This query calculates the number of unique customers in each country by counting distinct Customer\\_IDs.\n",
                "\n",
                "By grouping the data by the Country column and ordering the results in descending order of the customer count,\n",
                "\n",
                "you can identify which countries have the highest number of customers."
            ],
            "metadata": {
                "language": "sql",
                "azdata_cell_guid": "b2d7bf21-b01b-422c-9f3b-7e80988a55d3"
            },
            "attachments": {}
        },
        {
            "cell_type": "code",
            "source": [
                "SELECT Country, COUNT(DISTINCT Customer_ID) AS Customer_Count\r\n",
                "FROM new_retail_data\r\n",
                "GROUP BY Country\r\n",
                "ORDER BY Customer_Count DESC;"
            ],
            "metadata": {
                "language": "sql",
                "azdata_cell_guid": "4ccb21a0-0c62-47f6-b780-d79a15c1704e",
                "tags": []
            },
            "outputs": [
                {
                    "output_type": "display_data",
                    "data": {
                        "text/html": "Warning: Null value is eliminated by an aggregate or other SET operation."
                    },
                    "metadata": {}
                },
                {
                    "output_type": "display_data",
                    "data": {
                        "text/html": "(6 rows affected)"
                    },
                    "metadata": {}
                },
                {
                    "output_type": "display_data",
                    "data": {
                        "text/html": "Total execution time: 00:00:07.217"
                    },
                    "metadata": {}
                },
                {
                    "output_type": "execute_result",
                    "execution_count": 7,
                    "data": {
                        "application/vnd.dataresource+json": {
                            "schema": {
                                "fields": [
                                    {
                                        "name": "Country"
                                    },
                                    {
                                        "name": "Customer_Count"
                                    }
                                ]
                            },
                            "data": [
                                {
                                    "Country": "USA",
                                    "Customer_Count": "58466"
                                },
                                {
                                    "Country": "UK",
                                    "Customer_Count": "45034"
                                },
                                {
                                    "Country": "Germany",
                                    "Customer_Count": "39625"
                                },
                                {
                                    "Country": "Australia",
                                    "Customer_Count": "35430"
                                },
                                {
                                    "Country": "Canada",
                                    "Customer_Count": "35169"
                                },
                                {
                                    "Country": "NULL",
                                    "Customer_Count": "267"
                                }
                            ]
                        },
                        "text/html": "<table><tr><th>Country</th><th>Customer_Count</th></tr><tr><td>USA</td><td>58466</td></tr><tr><td>UK</td><td>45034</td></tr><tr><td>Germany</td><td>39625</td></tr><tr><td>Australia</td><td>35430</td></tr><tr><td>Canada</td><td>35169</td></tr><tr><td>NULL</td><td>267</td></tr></table>"
                    },
                    "metadata": {
                        "azdata_chartOptions": {
                            "type": "horizontalBar",
                            "dataDirection": "horizontal",
                            "columnsAsLabels": true,
                            "labelFirstColumn": true,
                            "legendPosition": "top",
                            "dataType": "number"
                        }
                    }
                }
            ],
            "execution_count": 7
        },
        {
            "cell_type": "markdown",
            "source": [
                "# 5\\. What is the distribution of customer ratings?"
            ],
            "metadata": {
                "language": "sql",
                "azdata_cell_guid": "23e0e3b1-6a1f-4d12-a353-4f7b90a35502"
            },
            "attachments": {}
        },
        {
            "cell_type": "markdown",
            "source": [
                "## Explanation: \n",
                "\n",
                "This query analyzes the distribution of customer ratings by counting the number of occurrences of each rating value.\n",
                "\n",
                "By grouping the data by the Ratings column and ordering the results in descending order of rating counts,\n",
                "\n",
                "you can see how customers rate their purchases on a scale (e.g., 1 to 5)."
            ],
            "metadata": {
                "language": "sql",
                "azdata_cell_guid": "e008d1a3-0e32-490b-9d1f-f21ae8841714"
            },
            "attachments": {}
        },
        {
            "cell_type": "code",
            "source": [
                "SELECT Ratings, COUNT(*) AS Ratings_Count\r\n",
                "FROM new_retail_data\r\n",
                "GROUP BY Ratings\r\n",
                "ORDER BY Ratings DESC;"
            ],
            "metadata": {
                "language": "sql",
                "azdata_cell_guid": "1773b32e-8be2-4824-9fbc-6c7bd348aad2"
            },
            "outputs": [
                {
                    "output_type": "display_data",
                    "data": {
                        "text/html": "(6 rows affected)"
                    },
                    "metadata": {}
                },
                {
                    "output_type": "display_data",
                    "data": {
                        "text/html": "Total execution time: 00:00:00.199"
                    },
                    "metadata": {}
                },
                {
                    "output_type": "execute_result",
                    "execution_count": 8,
                    "data": {
                        "application/vnd.dataresource+json": {
                            "schema": {
                                "fields": [
                                    {
                                        "name": "Ratings"
                                    },
                                    {
                                        "name": "Ratings_Count"
                                    }
                                ]
                            },
                            "data": [
                                {
                                    "Ratings": "5",
                                    "Ratings_Count": "50153"
                                },
                                {
                                    "Ratings": "4",
                                    "Ratings_Count": "98064"
                                },
                                {
                                    "Ratings": "3",
                                    "Ratings_Count": "47636"
                                },
                                {
                                    "Ratings": "2",
                                    "Ratings_Count": "62674"
                                },
                                {
                                    "Ratings": "1",
                                    "Ratings_Count": "43299"
                                },
                                {
                                    "Ratings": "NULL",
                                    "Ratings_Count": "184"
                                }
                            ]
                        },
                        "text/html": "<table><tr><th>Ratings</th><th>Ratings_Count</th></tr><tr><td>5</td><td>50153</td></tr><tr><td>4</td><td>98064</td></tr><tr><td>3</td><td>47636</td></tr><tr><td>2</td><td>62674</td></tr><tr><td>1</td><td>43299</td></tr><tr><td>NULL</td><td>184</td></tr></table>"
                    },
                    "metadata": {
                        "azdata_chartOptions": {
                            "type": "doughnut",
                            "dataDirection": "vertical",
                            "columnsAsLabels": true,
                            "labelFirstColumn": false,
                            "legendPosition": "top",
                            "dataType": "number",
                            "encoding": "hex",
                            "imageFormat": "jpeg"
                        }
                    }
                }
            ],
            "execution_count": 8
        }
    ]
}